{
 "cells": [
  {
   "cell_type": "markdown",
   "metadata": {},
   "source": [
    "# An Example of How to Convert EEA Cell Code into Longitude and Latitude\n"
   ]
  },
  {
   "cell_type": "code",
   "execution_count": 5,
   "metadata": {},
   "outputs": [
    {
     "name": "stdout",
     "output_type": "stream",
     "text": [
      "Longitude: 52.0, Latitude: 10.0\n"
     ]
    }
   ],
   "source": [
    "import eeacellcode_to_latlong as eea\n",
    "eeacellcode = '1kmE4321N3210'\n",
    "\n",
    "longitude, latitude = eea.convert_eeacellcode_to_latlon(eeacellcode)\n",
    "print(f\"Longitude: {longitude}, Latitude: {latitude}\")"
   ]
  }
 ],
 "metadata": {
  "kernelspec": {
   "display_name": "myenv",
   "language": "python",
   "name": "python3"
  },
  "language_info": {
   "codemirror_mode": {
    "name": "ipython",
    "version": 3
   },
   "file_extension": ".py",
   "mimetype": "text/x-python",
   "name": "python",
   "nbconvert_exporter": "python",
   "pygments_lexer": "ipython3",
   "version": "3.12.3"
  }
 },
 "nbformat": 4,
 "nbformat_minor": 2
}
